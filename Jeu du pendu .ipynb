{
 "cells": [
  {
   "cell_type": "markdown",
   "id": "c7a8fb3e",
   "metadata": {},
   "source": [
    "# Jeu du pendu "
   ]
  },
  {
   "cell_type": "code",
   "execution_count": null,
   "id": "de6787b3",
   "metadata": {},
   "outputs": [
    {
     "name": "stdout",
     "output_type": "stream",
     "text": [
      "Bienvenue dans le jeu du Pendu !\n",
      "Le mot à deviner comporte 6 lettres.\n",
      "\n",
      "Mot à deviner : ______\n",
      "Tentatives restantes : 7\n",
      "\n",
      "Proposez une lettre : 33\n",
      "Cette lettre n'est pas dans le mot.\n",
      "Mot à deviner : ______\n",
      "Tentatives restantes : 6\n",
      "\n",
      "Proposez une lettre : 22\n",
      "Cette lettre n'est pas dans le mot.\n",
      "Mot à deviner : ______\n",
      "Tentatives restantes : 5\n",
      "\n",
      "Proposez une lettre : 22\n",
      "Vous avez déjà proposé cette lettre.\n",
      "Mot à deviner : ______\n",
      "Tentatives restantes : 5\n",
      "\n",
      "Proposez une lettre : 11\n",
      "Cette lettre n'est pas dans le mot.\n",
      "Mot à deviner : ______\n",
      "Tentatives restantes : 4\n",
      "\n",
      "Proposez une lettre : 33\n",
      "Vous avez déjà proposé cette lettre.\n",
      "Mot à deviner : ______\n",
      "Tentatives restantes : 4\n",
      "\n",
      "Proposez une lettre : 22\n",
      "Vous avez déjà proposé cette lettre.\n",
      "Mot à deviner : ______\n",
      "Tentatives restantes : 4\n",
      "\n",
      "Proposez une lettre : 44\n",
      "Cette lettre n'est pas dans le mot.\n",
      "Mot à deviner : ______\n",
      "Tentatives restantes : 3\n",
      "\n"
     ]
    }
   ],
   "source": [
    "import random\n",
    "\n",
    "def choisir_mot():\n",
    "    mots = [\"python\", \"ordinateur\", \"programmation\", \"jeu\", \"developpeur\"]\n",
    "    return random.choice(mots)\n",
    "\n",
    "def pendu():\n",
    "    mot_a_deviner = choisir_mot()\n",
    "    lettres_trouvees = []\n",
    "    tentatives = 7\n",
    "\n",
    "    print(\"Bienvenue dans le jeu du Pendu !\")\n",
    "    print(\"Le mot à deviner comporte\", len(mot_a_deviner), \"lettres.\")\n",
    "    print(\"\")\n",
    "\n",
    "    while tentatives > 0:\n",
    "        mot_affiche = \"\"\n",
    "        for lettre in mot_a_deviner:\n",
    "            if lettre in lettres_trouvees:\n",
    "                mot_affiche += lettre\n",
    "            else:\n",
    "                mot_affiche += \"_\"\n",
    "\n",
    "        print(\"Mot à deviner :\", mot_affiche)\n",
    "        print(\"Tentatives restantes :\", tentatives)\n",
    "        print(\"\")\n",
    "\n",
    "        if mot_affiche == mot_a_deviner:\n",
    "            print(\"Félicitations ! Vous avez deviné le mot :\", mot_a_deviner)\n",
    "            break\n",
    "\n",
    "        lettre_proposee = input(\"Proposez une lettre : \").lower()\n",
    "\n",
    "        if lettre_proposee in lettres_trouvees:\n",
    "            print(\"Vous avez déjà proposé cette lettre.\")\n",
    "        elif lettre_proposee in mot_a_deviner:\n",
    "            print(\"Bonne devinette ! Cette lettre est présente dans le mot.\")\n",
    "            lettres_trouvees.append(lettre_proposee)\n",
    "        else:\n",
    "            print(\"Cette lettre n'est pas dans le mot.\")\n",
    "            tentatives -= 1\n",
    "            lettres_trouvees.append(lettre_proposee)\n",
    "\n",
    "    if tentatives == 0:\n",
    "        print(\"Dommage ! Le mot à deviner était :\", mot_a_deviner)\n",
    "\n",
    "pendu()\n"
   ]
  },
  {
   "cell_type": "code",
   "execution_count": null,
   "id": "c536ab8e",
   "metadata": {},
   "outputs": [],
   "source": []
  }
 ],
 "metadata": {
  "kernelspec": {
   "display_name": "Python 3 (ipykernel)",
   "language": "python",
   "name": "python3"
  },
  "language_info": {
   "codemirror_mode": {
    "name": "ipython",
    "version": 3
   },
   "file_extension": ".py",
   "mimetype": "text/x-python",
   "name": "python",
   "nbconvert_exporter": "python",
   "pygments_lexer": "ipython3",
   "version": "3.9.13"
  }
 },
 "nbformat": 4,
 "nbformat_minor": 5
}
