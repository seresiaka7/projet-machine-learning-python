{
 "cells": [
  {
   "cell_type": "markdown",
   "id": "bdfcd364",
   "metadata": {},
   "source": [
    "# Devinette "
   ]
  },
  {
   "cell_type": "code",
   "execution_count": null,
   "id": "0a4f25a8",
   "metadata": {},
   "outputs": [
    {
     "name": "stdout",
     "output_type": "stream",
     "text": [
      "Devinez le nombre entre 1 et 20 !\n",
      "Entrez votre estimation : 3\n",
      "Trop bas, essayez encore !\n",
      "Entrez votre estimation : 1\n",
      "Trop bas, essayez encore !\n"
     ]
    }
   ],
   "source": [
    "import random\n",
    "\n",
    "def devinette():\n",
    "    nombre_a_deviner = random.randint(1, 20)  # Choisissez un nombre aléatoire entre 1 et 20\n",
    "    essais = 0\n",
    "\n",
    "    print(\"Devinez le nombre entre 1 et 20 !\")\n",
    "    \n",
    "    while True:\n",
    "        essai = int(input(\"Entrez votre estimation : \"))\n",
    "        essais += 1\n",
    "\n",
    "        if essai < nombre_a_deviner:\n",
    "            print(\"Trop bas, essayez encore !\")\n",
    "        elif essai > nombre_a_deviner:\n",
    "            print(\"Trop haut, essayez encore !\")\n",
    "        else:\n",
    "            print(f\"Bravo ! Vous avez deviné le nombre en {essais} essais.\")\n",
    "            break\n",
    "\n",
    "devinette()"
   ]
  },
  {
   "cell_type": "code",
   "execution_count": null,
   "id": "39199c8a",
   "metadata": {},
   "outputs": [],
   "source": []
  }
 ],
 "metadata": {
  "kernelspec": {
   "display_name": "Python 3 (ipykernel)",
   "language": "python",
   "name": "python3"
  },
  "language_info": {
   "codemirror_mode": {
    "name": "ipython",
    "version": 3
   },
   "file_extension": ".py",
   "mimetype": "text/x-python",
   "name": "python",
   "nbconvert_exporter": "python",
   "pygments_lexer": "ipython3",
   "version": "3.9.13"
  }
 },
 "nbformat": 4,
 "nbformat_minor": 5
}
